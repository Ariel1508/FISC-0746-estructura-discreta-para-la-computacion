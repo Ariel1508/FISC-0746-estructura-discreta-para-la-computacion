{
  "nbformat": 4,
  "nbformat_minor": 0,
  "metadata": {
    "colab": {
      "name": "Copia de Lab10.ipynb",
      "version": "0.3.2",
      "provenance": []
    },
    "kernelspec": {
      "name": "python3",
      "display_name": "Python 3"
    }
  },
  "cells": [
    {
      "cell_type": "code",
      "metadata": {
        "id": "spULE2CXuA8V",
        "colab_type": "code",
        "colab": {}
      },
      "source": [
        "from collections import defaultdict, namedtuple, Counter, deque\n",
        "import csv\n",
        "import random\n",
        "from urllib.request import urlretrieve"
      ],
      "execution_count": 0,
      "outputs": []
    },
    {
      "cell_type": "code",
      "metadata": {
        "id": "sNAUC7PbuHzE",
        "colab_type": "code",
        "outputId": "c13dabcd-d0be-4413-bf0c-51c2b4e7c021",
        "colab": {
          "base_uri": "https://localhost:8080/",
          "height": 34
        }
      },
      "source": [
        "pelicula_data = 'https://raw.githubusercontent.com/pybites/challenges/solutions/13/movie_metadata.csv'\n",
        "pelicula_csv = 'movies.csv'\n",
        "urlretrieve(pelicula_data, pelicula_csv)"
      ],
      "execution_count": 11,
      "outputs": [
        {
          "output_type": "execute_result",
          "data": {
            "text/plain": [
              "('movies.csv', <http.client.HTTPMessage at 0x7f65910e0b38>)"
            ]
          },
          "metadata": {
            "tags": []
          },
          "execution_count": 11
        }
      ]
    },
    {
      "cell_type": "code",
      "metadata": {
        "id": "4Y8Iedg0uat7",
        "colab_type": "code",
        "colab": {}
      },
      "source": [
        "pelicula = namedtuple('Peliculas', 'title year score')"
      ],
      "execution_count": 0,
      "outputs": []
    },
    {
      "cell_type": "code",
      "metadata": {
        "id": "IMqnFwnkv0cM",
        "colab_type": "code",
        "colab": {}
      },
      "source": [
        "def obtener_peliculas_por_director(data=pelicula_csv):\n",
        "    \"\"\"Extracts all movies from csv and stores them in a dictionary\n",
        "       where keys are directors, and values is a list of movies (named tuples)\"\"\"\n",
        "    directors = defaultdict(list)\n",
        "    with open(data, encoding='utf-8') as f:\n",
        "        for line in csv.DictReader(f):\n",
        "            try:\n",
        "                director = line['director_name']\n",
        "                movie = line['movie_title'].replace('\\xa0', '')\n",
        "                year = int(line['title_year'])\n",
        "                score = float(line['imdb_score'])\n",
        "            except ValueError:\n",
        "                continue\n",
        "\n",
        "            m = pelicula(title=movie, year=year, score=score)\n",
        "            directors[director].append(m)\n",
        "\n",
        "    return directors"
      ],
      "execution_count": 0,
      "outputs": []
    },
    {
      "cell_type": "code",
      "metadata": {
        "id": "biL0LNClwGnc",
        "colab_type": "code",
        "colab": {}
      },
      "source": [
        "director = obtener_peliculas_por_director"
      ],
      "execution_count": 0,
      "outputs": []
    },
    {
      "cell_type": "code",
      "metadata": {
        "id": "IaKjSz9qxynS",
        "colab_type": "code",
        "colab": {}
      },
      "source": [
        "director"
      ],
      "execution_count": 0,
      "outputs": []
    },
    {
      "cell_type": "markdown",
      "metadata": {
        "id": "WRE2-9gAx5lH",
        "colab_type": "text"
      },
      "source": [
        "##Tarea 1:\n",
        "\n",
        "\n",
        "1-Contar la cantidad de directores."
      ]
    },
    {
      "cell_type": "code",
      "metadata": {
        "id": "T66-NUFgwaC6",
        "colab_type": "code",
        "colab": {
          "base_uri": "https://localhost:8080/",
          "height": 34
        },
        "outputId": "ef10051e-025b-4737-8be4-2cbc6bc2b7b2"
      },
      "source": [
        "len(director)"
      ],
      "execution_count": 16,
      "outputs": [
        {
          "output_type": "execute_result",
          "data": {
            "text/plain": [
              "2395"
            ]
          },
          "metadata": {
            "tags": []
          },
          "execution_count": 16
        }
      ]
    },
    {
      "cell_type": "code",
      "metadata": {
        "id": "IgJqIWsNxlH0",
        "colab_type": "code",
        "colab": {
          "base_uri": "https://localhost:8080/",
          "height": 136
        },
        "outputId": "5f8cc5a4-f0f7-48f7-b599-390a1622b403"
      },
      "source": [
        "#obtener peliclas por director\n",
        "director['James Cameron']"
      ],
      "execution_count": 22,
      "outputs": [
        {
          "output_type": "execute_result",
          "data": {
            "text/plain": [
              "[Peliculas(title='Avatar', year=2009, score=7.9),\n",
              " Peliculas(title='Titanic', year=1997, score=7.7),\n",
              " Peliculas(title='Terminator 2: Judgment Day', year=1991, score=8.5),\n",
              " Peliculas(title='True Lies', year=1994, score=7.2),\n",
              " Peliculas(title='The Abyss', year=1989, score=7.6),\n",
              " Peliculas(title='Aliens', year=1986, score=8.4),\n",
              " Peliculas(title='The Terminator', year=1984, score=8.1)]"
            ]
          },
          "metadata": {
            "tags": []
          },
          "execution_count": 22
        }
      ]
    },
    {
      "cell_type": "markdown",
      "metadata": {
        "id": "JSbrnhMJys8C",
        "colab_type": "text"
      },
      "source": [
        "##Tarea 2:\n",
        "\n",
        "1-Cantidad de peliculas por directores."
      ]
    },
    {
      "cell_type": "code",
      "metadata": {
        "id": "_LCHdoJ4yVly",
        "colab_type": "code",
        "colab": {
          "base_uri": "https://localhost:8080/",
          "height": 34
        },
        "outputId": "5cf26251-a108-43b6-c02d-328d8ab450de"
      },
      "source": [
        "len(director['James Cameron'])"
      ],
      "execution_count": 24,
      "outputs": [
        {
          "output_type": "execute_result",
          "data": {
            "text/plain": [
              "7"
            ]
          },
          "metadata": {
            "tags": []
          },
          "execution_count": 24
        }
      ]
    },
    {
      "cell_type": "code",
      "metadata": {
        "id": "IuXH2aRmy1wO",
        "colab_type": "code",
        "colab": {}
      },
      "source": [
        "for directores, pelicula in director.items():\n",
        "  print(f'El director {directores} con {len(pelicula)} peliculas ')"
      ],
      "execution_count": 0,
      "outputs": []
    },
    {
      "cell_type": "markdown",
      "metadata": {
        "id": "FY1aFlHT4EnL",
        "colab_type": "text"
      },
      "source": [
        "##Tarea 3:\n",
        "\n",
        "1-Calcular la pelicula con mayor puntaje."
      ]
    },
    {
      "cell_type": "code",
      "metadata": {
        "id": "6nAInlb112n7",
        "colab_type": "code",
        "colab": {}
      },
      "source": [
        "contador=0\n",
        "for directores, pelicula in director.items():\n",
        "    for pelicula, score in director.items():\n",
        "      if(contador<score):\n",
        "      contador=score\n",
        "  print(f'La pelicula con mayor puntaje de {directores} es de la pelicula: {pelicula} con un puntaje de {puntaje} ')"
      ],
      "execution_count": 0,
      "outputs": []
    },
    {
      "cell_type": "code",
      "metadata": {
        "id": "KqU_0Jvr6Q4z",
        "colab_type": "code",
        "colab": {}
      },
      "source": [
        ""
      ],
      "execution_count": 0,
      "outputs": []
    }
  ]
}
