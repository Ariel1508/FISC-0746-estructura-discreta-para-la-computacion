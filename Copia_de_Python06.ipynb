{
  "nbformat": 4,
  "nbformat_minor": 0,
  "metadata": {
    "colab": {
      "name": "Copia_de_Python06.ipynb",
      "version": "0.3.2",
      "provenance": []
    },
    "kernelspec": {
      "name": "python2",
      "display_name": "Python 2"
    }
  },
  "cells": [
    {
      "cell_type": "markdown",
      "metadata": {
        "id": "3PlqntbebsgV",
        "colab_type": "text"
      },
      "source": [
        "##Tarea 1:\n",
        "Funcion que tome numeros de una lista y devuelva el mayor"
      ]
    },
    {
      "cell_type": "code",
      "metadata": {
        "id": "QHpOCIo5bSu-",
        "colab_type": "code",
        "colab": {
          "base_uri": "https://localhost:8080/",
          "height": 34
        },
        "outputId": "a9c369a4-b544-4a97-c91a-80eedda72af1"
      },
      "source": [
        "def mayor(num):\n",
        "  return max(num)\n",
        "\n",
        "\n",
        "numero=[40,99,03,50]\n",
        "mayor(numero)"
      ],
      "execution_count": 7,
      "outputs": [
        {
          "output_type": "execute_result",
          "data": {
            "text/plain": [
              "99"
            ]
          },
          "metadata": {
            "tags": []
          },
          "execution_count": 7
        }
      ]
    },
    {
      "cell_type": "markdown",
      "metadata": {
        "id": "DDvh1Z5ygSn7",
        "colab_type": "text"
      },
      "source": [
        "##Tarea 2:\n",
        "Ordenar la lista decendentemente"
      ]
    },
    {
      "cell_type": "code",
      "metadata": {
        "id": "MbKb1LTIgVPR",
        "colab_type": "code",
        "colab": {
          "base_uri": "https://localhost:8080/",
          "height": 34
        },
        "outputId": "6a36a868-4894-4a33-c3c9-173eba318e8f"
      },
      "source": [
        "def decen(num2):\n",
        "  num2.sort(reverse=True)\n",
        "  print(num2)\n",
        "  \n",
        "numero2=[4,63,2,6,3,2]\n",
        "decen(numero2)"
      ],
      "execution_count": 10,
      "outputs": [
        {
          "output_type": "stream",
          "text": [
            "[63, 6, 4, 3, 2, 2]\n"
          ],
          "name": "stdout"
        }
      ]
    },
    {
      "cell_type": "markdown",
      "metadata": {
        "id": "nAxwHEn4izNr",
        "colab_type": "text"
      },
      "source": [
        "##Tarea 3:\n",
        "una funcion que regrese true si el numero es divisible entre 7 y no es multiplo de 5"
      ]
    },
    {
      "cell_type": "code",
      "metadata": {
        "id": "k46cS7mOi2OC",
        "colab_type": "code",
        "colab": {
          "base_uri": "https://localhost:8080/",
          "height": 34
        },
        "outputId": "fcb29d37-e745-4199-e6d0-a6892601ee94"
      },
      "source": [
        "def operacion(num3):\n",
        "  c= num3 % 7\n",
        "  b= num3 % 5\n",
        "  if(c==0 and b!=0):\n",
        "    print(\"true\")\n",
        "  else:\n",
        "    print(\"false\")\n",
        "    \n",
        "numero3=41\n",
        "operacion(numero3)"
      ],
      "execution_count": 41,
      "outputs": [
        {
          "output_type": "stream",
          "text": [
            "false\n"
          ],
          "name": "stdout"
        }
      ]
    },
    {
      "cell_type": "markdown",
      "metadata": {
        "id": "wrPLymTQrkbK",
        "colab_type": "text"
      },
      "source": [
        "divisible 7 y multiplo de 5"
      ]
    },
    {
      "cell_type": "code",
      "metadata": {
        "id": "Nh9G7Se6pxIF",
        "colab_type": "code",
        "colab": {}
      },
      "source": [
        "for i in range(1,100):\n",
        "  c= i % 7\n",
        "  b= i % 5\n",
        "  if(c==0 and b!=0):\n",
        "    print(i)\n",
        "  "
      ],
      "execution_count": 0,
      "outputs": []
    },
    {
      "cell_type": "markdown",
      "metadata": {
        "id": "X8jDKICVqbsT",
        "colab_type": "text"
      },
      "source": [
        "##Tarea 4:\n",
        "true si el numero es primo"
      ]
    },
    {
      "cell_type": "code",
      "metadata": {
        "id": "MpPfTfDerqCp",
        "colab_type": "code",
        "colab": {
          "base_uri": "https://localhost:8080/",
          "height": 102
        },
        "outputId": "584e3c56-7d2f-4d51-98f7-6ef5b34c016e"
      },
      "source": [
        "def multiplo(num4):\n",
        "  for i in range(2,num4):\n",
        "    if(num4 % i)==0:\n",
        "      print(\"No es primo\")\n",
        "  print(\"no es primo\")\n",
        "     \n",
        "       \n",
        "  \n",
        "numero4=99\n",
        "multiplo(numero4)"
      ],
      "execution_count": 74,
      "outputs": [
        {
          "output_type": "stream",
          "text": [
            "No es primo\n",
            "No es primo\n",
            "No es primo\n",
            "No es primo\n",
            "no es primo\n"
          ],
          "name": "stdout"
        }
      ]
    }
  ]
}