{
  "nbformat": 4,
  "nbformat_minor": 0,
  "metadata": {
    "colab": {
      "name": "Copia de Python02.ipynb",
      "version": "0.3.2",
      "provenance": []
    },
    "kernelspec": {
      "name": "python3",
      "display_name": "Python 3"
    }
  },
  "cells": [
    {
      "metadata": {
        "id": "7oPpuOqFOje8",
        "colab_type": "text"
      },
      "cell_type": "markdown",
      "source": [
        "##Matematica discretas\n",
        "##Ariel Caicedo"
      ]
    },
    {
      "metadata": {
        "id": "zHqq2g2nOjNk",
        "colab_type": "code",
        "outputId": "a711ca95-4cd3-4106-9410-10ca78792aae",
        "colab": {
          "base_uri": "https://localhost:8080/",
          "height": 33
        }
      },
      "cell_type": "code",
      "source": [
        "x = 10\n",
        "if x > 10:\n",
        "  print(\"Hello\")\n",
        "else:\n",
        "  print(\"world\")"
      ],
      "execution_count": 0,
      "outputs": [
        {
          "output_type": "stream",
          "text": [
            "world\n"
          ],
          "name": "stdout"
        }
      ]
    },
    {
      "metadata": {
        "id": "Ylg18f2EOatm",
        "colab_type": "code",
        "outputId": "7cb431dd-18c4-47f1-e663-d40e804f1161",
        "colab": {
          "base_uri": "https://localhost:8080/",
          "height": 33
        }
      },
      "cell_type": "code",
      "source": [
        "x = 10\n",
        "y = 12\n",
        "if x > y:\n",
        "  print(\"x>y\")\n",
        "elif x < y:\n",
        "  print(\"x<y\")\n",
        "else:\n",
        "  print(\"x=y\")"
      ],
      "execution_count": 0,
      "outputs": [
        {
          "output_type": "stream",
          "text": [
            "x<y\n"
          ],
          "name": "stdout"
        }
      ]
    },
    {
      "metadata": {
        "id": "koeoJfSHRFSd",
        "colab_type": "code",
        "outputId": "eb1b8d5d-4f0e-481b-c28b-4d42f7b4f5e8",
        "colab": {
          "base_uri": "https://localhost:8080/",
          "height": 54
        }
      },
      "cell_type": "code",
      "source": [
        "x = 4\n",
        "y = 12\n",
        "if x > y:\n",
        "  print(\"x>y\")\n",
        "elif x < y:\n",
        "  print(\"x<y\")\n",
        "  if x==10:\n",
        "    print(\"x=10\")\n",
        "  else:\n",
        "    print(\"invalid\")\n",
        "else:\n",
        "  print(\"x=y\")"
      ],
      "execution_count": 0,
      "outputs": [
        {
          "output_type": "stream",
          "text": [
            "x<y\n",
            "invalid\n"
          ],
          "name": "stdout"
        }
      ]
    },
    {
      "metadata": {
        "id": "BwwCuJ-TR2y0",
        "colab_type": "code",
        "outputId": "b19b1b2a-68c4-4aaa-8ccd-e2400444cf1b",
        "colab": {
          "base_uri": "https://localhost:8080/",
          "height": 108
        }
      },
      "cell_type": "code",
      "source": [
        "for i in range(5):\n",
        "  print(i3)"
      ],
      "execution_count": 0,
      "outputs": [
        {
          "output_type": "stream",
          "text": [
            "0\n",
            "1\n",
            "2\n",
            "3\n",
            "4\n"
          ],
          "name": "stdout"
        }
      ]
    },
    {
      "metadata": {
        "id": "OBx3_bkhTb50",
        "colab_type": "code",
        "outputId": "b7e02f88-cd45-4e16-f464-d0bb12da5c25",
        "colab": {
          "base_uri": "https://localhost:8080/",
          "height": 72
        }
      },
      "cell_type": "code",
      "source": [
        "list_of_list = [[1, 2, 3], [4, 5, 6], [7, 8, 9]]\n",
        "for list1 in list_of_list:\n",
        "  print(list1)"
      ],
      "execution_count": 0,
      "outputs": [
        {
          "output_type": "stream",
          "text": [
            "[1, 2, 3]\n",
            "[4, 5, 6]\n",
            "[7, 8, 9]\n"
          ],
          "name": "stdout"
        }
      ]
    },
    {
      "metadata": {
        "id": "E-6J4D5nWWC1",
        "colab_type": "code",
        "outputId": "00e0dede-28d8-43ab-c16f-0552582eb2b6",
        "colab": {
          "base_uri": "https://localhost:8080/",
          "height": 72
        }
      },
      "cell_type": "code",
      "source": [
        "list_of_list = [[1, 2, 3], [4, 5, 6], [7, 8, 9]]\n",
        "for list1 in reversed(list_of_list):\n",
        "  print(list1)"
      ],
      "execution_count": 0,
      "outputs": [
        {
          "output_type": "stream",
          "text": [
            "[7, 8, 9]\n",
            "[4, 5, 6]\n",
            "[1, 2, 3]\n"
          ],
          "name": "stdout"
        }
      ]
    },
    {
      "metadata": {
        "id": "MThb4s1iTbwk",
        "colab_type": "code",
        "outputId": "a49fb132-1196-44f0-9558-1b356887293c",
        "colab": {
          "base_uri": "https://localhost:8080/",
          "height": 181
        }
      },
      "cell_type": "code",
      "source": [
        "list_of_list = [[1, 2, 3], [4, 5, 6], [7, 8, 9]]\n",
        "for list1 in list_of_list:\n",
        "  for x in list1:\n",
        "   print(x)"
      ],
      "execution_count": 0,
      "outputs": [
        {
          "output_type": "stream",
          "text": [
            "1\n",
            "2\n",
            "3\n",
            "4\n",
            "5\n",
            "6\n",
            "7\n",
            "8\n",
            "9\n"
          ],
          "name": "stdout"
        }
      ]
    },
    {
      "metadata": {
        "id": "ceYjL7w8WcQ9",
        "colab_type": "code",
        "outputId": "7ca0e67e-8f75-41e8-9e7c-bfab94952963",
        "colab": {
          "base_uri": "https://localhost:8080/",
          "height": 72
        }
      },
      "cell_type": "code",
      "source": [
        "i = 1\n",
        "while i < 3:\n",
        "  print(i ** 2)\n",
        "  i = i+1\n",
        "print(\"bye\")  "
      ],
      "execution_count": 0,
      "outputs": [
        {
          "output_type": "stream",
          "text": [
            "1\n",
            "4\n",
            "bye\n"
          ],
          "name": "stdout"
        }
      ]
    },
    {
      "metadata": {
        "id": "9KLxrMU_XJg9",
        "colab_type": "code",
        "outputId": "cb20f9b2-cea3-47d6-d3e5-38c6ef0725ce",
        "colab": {
          "base_uri": "https://localhost:8080/",
          "height": 163
        }
      },
      "cell_type": "code",
      "source": [
        "for i in range(100):\n",
        "  print(i)\n",
        "  if i>=7:\n",
        "    break"
      ],
      "execution_count": 0,
      "outputs": [
        {
          "output_type": "stream",
          "text": [
            "0\n",
            "1\n",
            "2\n",
            "3\n",
            "4\n",
            "5\n",
            "6\n",
            "7\n"
          ],
          "name": "stdout"
        }
      ]
    },
    {
      "metadata": {
        "id": "aJs3vQaOXbcl",
        "colab_type": "code",
        "colab": {}
      },
      "cell_type": "code",
      "source": [
        "for i in range(100):\n",
        "  print(i)\n",
        "  if i>=4:\n",
        "    print(\"The end\")\n",
        "    continue\n",
        "  elif i<7:\n",
        "    print(i)"
      ],
      "execution_count": 0,
      "outputs": []
    },
    {
      "metadata": {
        "id": "TMhxAlx5Yq29",
        "colab_type": "code",
        "outputId": "12e025ce-8b4c-428d-9b58-a5c27208c4b1",
        "colab": {
          "base_uri": "https://localhost:8080/",
          "height": 35
        }
      },
      "cell_type": "code",
      "source": [
        "res = []\n",
        "for i in range(1, 11):\n",
        "  x = 27*i\n",
        "  res.append(x)\n",
        "print (res)"
      ],
      "execution_count": 0,
      "outputs": [
        {
          "output_type": "stream",
          "text": [
            "[27, 54, 81, 108, 135, 162, 189, 216, 243, 270]\n"
          ],
          "name": "stdout"
        }
      ]
    },
    {
      "metadata": {
        "id": "8a1YCow1Zko0",
        "colab_type": "code",
        "outputId": "47192028-979d-4b56-e744-66946bf98c23",
        "colab": {
          "base_uri": "https://localhost:8080/",
          "height": 35
        }
      },
      "cell_type": "code",
      "source": [
        "[27*x for x in range(1,20) if x<=10]"
      ],
      "execution_count": 0,
      "outputs": [
        {
          "output_type": "execute_result",
          "data": {
            "text/plain": [
              "[27, 54, 81, 108, 135, 162, 189, 216, 243, 270]"
            ]
          },
          "metadata": {
            "tags": []
          },
          "execution_count": 31
        }
      ]
    },
    {
      "metadata": {
        "id": "gg7fI8DSZu6M",
        "colab_type": "code",
        "outputId": "9f699997-d305-431f-9611-6e9764608330",
        "colab": {
          "base_uri": "https://localhost:8080/",
          "height": 35
        }
      },
      "cell_type": "code",
      "source": [
        "[27*z for x in range(50) if x==27 for z in range(1,11)]"
      ],
      "execution_count": 0,
      "outputs": [
        {
          "output_type": "execute_result",
          "data": {
            "text/plain": [
              "[27, 54, 81, 108, 135, 162, 189, 216, 243, 270]"
            ]
          },
          "metadata": {
            "tags": []
          },
          "execution_count": 33
        }
      ]
    },
    {
      "metadata": {
        "id": "lCeMXumKaPxE",
        "colab_type": "code",
        "outputId": "e180285d-5449-4d59-970f-970a7b546827",
        "colab": {
          "base_uri": "https://localhost:8080/",
          "height": 135
        }
      },
      "cell_type": "code",
      "source": [
        "dividir = 5\n",
        "bajos=[]; altos[]\n",
        "for i in range(10):\n",
        "  if (i < dividir):\n",
        "    bajos.append(i)\n",
        "  else:\n",
        "    altos.append(i)\n",
        "    print(\"bajos:\",bajos)\n",
        "    print(\"altos:\",altos)"
      ],
      "execution_count": 0,
      "outputs": [
        {
          "output_type": "error",
          "ename": "SyntaxError",
          "evalue": "ignored",
          "traceback": [
            "\u001b[0;36m  File \u001b[0;32m\"<ipython-input-38-d69f5d92ee67>\"\u001b[0;36m, line \u001b[0;32m2\u001b[0m\n\u001b[0;31m    bajos=[]; altos[]\u001b[0m\n\u001b[0m                    ^\u001b[0m\n\u001b[0;31mSyntaxError\u001b[0m\u001b[0;31m:\u001b[0m invalid syntax\n"
          ]
        }
      ]
    }
  ]
}