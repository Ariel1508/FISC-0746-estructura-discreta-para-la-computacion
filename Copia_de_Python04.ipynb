{
  "nbformat": 4,
  "nbformat_minor": 0,
  "metadata": {
    "colab": {
      "name": "Copia de Python04.ipynb",
      "version": "0.3.2",
      "provenance": []
    },
    "kernelspec": {
      "name": "python3",
      "display_name": "Python 3"
    }
  },
  "cells": [
    {
      "cell_type": "markdown",
      "metadata": {
        "id": "zEDF7mtya4cc",
        "colab_type": "text"
      },
      "source": [
        "##Tarea 01\n",
        "crear un programa que resuelva el factorial de un numero"
      ]
    },
    {
      "cell_type": "code",
      "metadata": {
        "id": "6gD9ttN0R30r",
        "colab_type": "code",
        "colab": {}
      },
      "source": [
        "def factorial(n):\n",
        "  if n > 1:\n",
        "    return n * factorial(n-1)\n",
        "  else:\n",
        "    return 1 "
      ],
      "execution_count": 0,
      "outputs": []
    },
    {
      "cell_type": "code",
      "metadata": {
        "id": "-eKsFP0wYYwl",
        "colab_type": "code",
        "outputId": "b4a296b9-697c-4892-ee37-57afddb9e900",
        "colab": {
          "base_uri": "https://localhost:8080/",
          "height": 34
        }
      },
      "source": [
        "factorial (4)"
      ],
      "execution_count": 0,
      "outputs": [
        {
          "output_type": "execute_result",
          "data": {
            "text/plain": [
              "24"
            ]
          },
          "metadata": {
            "tags": []
          },
          "execution_count": 32
        }
      ]
    },
    {
      "cell_type": "markdown",
      "metadata": {
        "id": "LCxVzaWEbWRs",
        "colab_type": "text"
      },
      "source": [
        "##Combinaciones"
      ]
    },
    {
      "cell_type": "code",
      "metadata": {
        "id": "E20TO1Raa9RU",
        "colab_type": "code",
        "outputId": "0fd2e691-5c55-42c4-d02a-6b7c3a26742a",
        "colab": {
          "base_uri": "https://localhost:8080/",
          "height": 34
        }
      },
      "source": [
        "import itertools\n",
        "list(itertools.combinations(range(3), 2))"
      ],
      "execution_count": 0,
      "outputs": [
        {
          "output_type": "execute_result",
          "data": {
            "text/plain": [
              "[(0, 1), (0, 2), (1, 2)]"
            ]
          },
          "metadata": {
            "tags": []
          },
          "execution_count": 38
        }
      ]
    },
    {
      "cell_type": "markdown",
      "metadata": {
        "id": "G5lTO9h6b2i9",
        "colab_type": "text"
      },
      "source": [
        "##Combinaciones con remplazo"
      ]
    },
    {
      "cell_type": "code",
      "metadata": {
        "id": "mUAF9-pWb23s",
        "colab_type": "code",
        "outputId": "c853da79-3830-4431-d90b-2198dc77acac",
        "colab": {
          "base_uri": "https://localhost:8080/",
          "height": 34
        }
      },
      "source": [
        "list(itertools.combinations_with_replacement(range(3), 2))"
      ],
      "execution_count": 0,
      "outputs": [
        {
          "output_type": "execute_result",
          "data": {
            "text/plain": [
              "[(0, 0), (0, 1), (0, 2), (1, 1), (1, 2), (2, 2)]"
            ]
          },
          "metadata": {
            "tags": []
          },
          "execution_count": 40
        }
      ]
    },
    {
      "cell_type": "markdown",
      "metadata": {
        "id": "zDe7WZFhcQxk",
        "colab_type": "text"
      },
      "source": [
        "dado un elemento A,B,C queremos extraer todad las posibilidades de dos  elementos AA, AB, AC, etc"
      ]
    },
    {
      "cell_type": "code",
      "metadata": {
        "id": "eaKRlyLQcTvE",
        "colab_type": "code",
        "outputId": "66101025-db2f-44b3-8b62-dc3a94adca0c",
        "colab": {
          "base_uri": "https://localhost:8080/",
          "height": 168
        }
      },
      "source": [
        "c = itertools.product(('A','B','c'), repeat=2)\n",
        "list(c)"
      ],
      "execution_count": 0,
      "outputs": [
        {
          "output_type": "execute_result",
          "data": {
            "text/plain": [
              "[('A', 'A'),\n",
              " ('A', 'B'),\n",
              " ('A', 'c'),\n",
              " ('B', 'A'),\n",
              " ('B', 'B'),\n",
              " ('B', 'c'),\n",
              " ('c', 'A'),\n",
              " ('c', 'B'),\n",
              " ('c', 'c')]"
            ]
          },
          "metadata": {
            "tags": []
          },
          "execution_count": 48
        }
      ]
    },
    {
      "cell_type": "markdown",
      "metadata": {
        "id": "B6Z0GeosdiIV",
        "colab_type": "text"
      },
      "source": [
        "##Permutaciones"
      ]
    },
    {
      "cell_type": "code",
      "metadata": {
        "id": "8qRDTFWYdxsE",
        "colab_type": "code",
        "outputId": "670b7970-9017-446e-f97f-d976ceb02824",
        "colab": {
          "base_uri": "https://localhost:8080/",
          "height": 34
        }
      },
      "source": [
        "c = itertools.permutations(('A','B','c'),2)\n",
        "list(c)"
      ],
      "execution_count": 0,
      "outputs": [
        {
          "output_type": "execute_result",
          "data": {
            "text/plain": [
              "[('A', 'B'), ('A', 'c'), ('B', 'A'), ('B', 'c'), ('c', 'A'), ('c', 'B')]"
            ]
          },
          "metadata": {
            "tags": []
          },
          "execution_count": 50
        }
      ]
    },
    {
      "cell_type": "markdown",
      "metadata": {
        "id": "BPOOqE1CeQPF",
        "colab_type": "text"
      },
      "source": [
        "##Combinaciones"
      ]
    },
    {
      "cell_type": "code",
      "metadata": {
        "id": "ChaF6-HCeVdU",
        "colab_type": "code",
        "outputId": "f37c539d-46e3-4661-ef2f-012ed77b2c39",
        "colab": {
          "base_uri": "https://localhost:8080/",
          "height": 34
        }
      },
      "source": [
        "c = itertools.combinations(('A','B','c'),2)\n",
        "list(c)"
      ],
      "execution_count": 0,
      "outputs": [
        {
          "output_type": "execute_result",
          "data": {
            "text/plain": [
              "[('A', 'B'), ('A', 'c'), ('B', 'c')]"
            ]
          },
          "metadata": {
            "tags": []
          },
          "execution_count": 51
        }
      ]
    },
    {
      "cell_type": "markdown",
      "metadata": {
        "id": "vUHtgDNve6gt",
        "colab_type": "text"
      },
      "source": [
        "##Tarea 02: octavos de final de la champion league 2019\n",
        "*Cuales son las posibles combinaciones de partidos?*\n",
        "\n",
        "\n",
        "equipos finalistas:Porto, Roma, Manchester City, Schalke04, Bayer, Liverpool, Manchester United, PSG, Juventus, Atletico Madrid, Barcelona y Lion"
      ]
    },
    {
      "cell_type": "code",
      "metadata": {
        "id": "Hc1Sc--sfozN",
        "colab_type": "code",
        "colab": {}
      },
      "source": [
        "c = itertools.combinations(('Porto','Roma','Manchester City','Schalke04','Bayer','Liverpool','Manchester United','PSG','Juventus','Atletico Madrid','Barcelona','Lion'), 2)\n",
        "list(c)\n"
      ],
      "execution_count": 0,
      "outputs": []
    },
    {
      "cell_type": "code",
      "metadata": {
        "id": "yq4cVgKiiJEk",
        "colab_type": "code",
        "outputId": "3c0eced0-b85b-44d5-df6a-67049c3aa5aa",
        "colab": {
          "base_uri": "https://localhost:8080/",
          "height": 34
        }
      },
      "source": [
        "len(list(itertools.combinations(('Porto','Roma','Manchester City','Schalke04','Bayer','Liverpool','Manchester United','PSG','Juventus','Atletico Madrid','Barcelona','Lion'), 2)))"
      ],
      "execution_count": 0,
      "outputs": [
        {
          "output_type": "execute_result",
          "data": {
            "text/plain": [
              "66"
            ]
          },
          "metadata": {
            "tags": []
          },
          "execution_count": 58
        }
      ]
    },
    {
      "cell_type": "markdown",
      "metadata": {
        "id": "emPsW3ashyaF",
        "colab_type": "text"
      },
      "source": [
        ""
      ]
    }
  ]
}