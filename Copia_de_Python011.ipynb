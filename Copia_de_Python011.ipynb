{
  "nbformat": 4,
  "nbformat_minor": 0,
  "metadata": {
    "colab": {
      "name": "Copia_de_Python011.ipynb",
      "version": "0.3.2",
      "provenance": [],
      "collapsed_sections": []
    },
    "kernelspec": {
      "name": "python3",
      "display_name": "Python 3"
    }
  },
  "cells": [
    {
      "cell_type": "code",
      "metadata": {
        "id": "il-ppS5RwzEN",
        "colab_type": "code",
        "colab": {}
      },
      "source": [
        "from collections import defaultdict, namedtuple, Counter, deque\n",
        "import csv\n",
        "import random\n",
        "from urllib.request import urlretrieve"
      ],
      "execution_count": 0,
      "outputs": []
    },
    {
      "cell_type": "code",
      "metadata": {
        "id": "kdv32U9WxKp3",
        "colab_type": "code",
        "outputId": "15fd5522-880a-4034-ed1f-0f32be63b56f",
        "colab": {
          "base_uri": "https://localhost:8080/",
          "height": 34
        }
      },
      "source": [
        "pelicula_data = 'https://raw.githubusercontent.com/pybites/challenges/solutions/13/movie_metadata.csv'\n",
        "pelicula_csv = 'movies.csv'\n",
        "urlretrieve(pelicula_data, pelicula_csv)"
      ],
      "execution_count": 0,
      "outputs": [
        {
          "output_type": "execute_result",
          "data": {
            "text/plain": [
              "('movies.csv', <http.client.HTTPMessage at 0x7f90e7214668>)"
            ]
          },
          "metadata": {
            "tags": []
          },
          "execution_count": 2
        }
      ]
    },
    {
      "cell_type": "code",
      "metadata": {
        "id": "09PoXTwvxMh8",
        "colab_type": "code",
        "colab": {}
      },
      "source": [
        "pelicula = namedtuple('Peliculas', 'title year score')"
      ],
      "execution_count": 0,
      "outputs": []
    },
    {
      "cell_type": "code",
      "metadata": {
        "id": "IVkAI0q_x3lc",
        "colab_type": "code",
        "colab": {}
      },
      "source": [
        "def obtener_peliculas_por_director(data=pelicula_csv):\n",
        "    \"\"\"Extracts all movies from csv and stores them in a dictionary\n",
        "       where keys are directors, and values is a list of movies (named tuples)\"\"\"\n",
        "    directors = defaultdict(list)\n",
        "    with open(data, encoding='utf-8') as f:\n",
        "        for line in csv.DictReader(f):\n",
        "            try:\n",
        "                director = line['director_name']\n",
        "                movie = line['movie_title'].replace('\\xa0', '')\n",
        "                year = int(line['title_year'])\n",
        "                score = float(line['imdb_score'])\n",
        "            except ValueError:\n",
        "                continue\n",
        "\n",
        "            m = pelicula(title=movie, year=year, score=score)\n",
        "            directors[director].append(m)\n",
        "\n",
        "    return directors"
      ],
      "execution_count": 0,
      "outputs": []
    },
    {
      "cell_type": "code",
      "metadata": {
        "id": "RKNw50Wlx5xK",
        "colab_type": "code",
        "colab": {}
      },
      "source": [
        "directores = obtener_peliculas_por_director()"
      ],
      "execution_count": 0,
      "outputs": []
    },
    {
      "cell_type": "markdown",
      "metadata": {
        "id": "4qZ10pCs0B-I",
        "colab_type": "text"
      },
      "source": [
        "## Tarea 01\n",
        "1.\tPor Director: Nombre, Año y Rating de la película con mejor Rating\n",
        "2.\tPor Director: promedio de rating\n",
        "3.\tDirector con el mejor rating\n",
        "4.\tLista de películas estrenadas en el 2018\n",
        "5.\tMejor Película del 2018\n",
        "6.\tDirector con el mejor rating en el 2018\n",
        "7.  Lista de peliculas que tengan dos  mas directores"
      ]
    },
    {
      "cell_type": "code",
      "metadata": {
        "id": "ih_Tl9M8x-60",
        "colab_type": "code",
        "colab": {}
      },
      "source": [
        "#1\n",
        "for director, peliculas in directores.items():\n",
        "  mayor_rating=0\n",
        "  anio=0\n",
        "  name=\"\"\n",
        "  for pelicula in peliculas:\n",
        "    if(mayor_rating<pelicula[2]):\n",
        "      mayor_rating=pelicula[2]\n",
        "      anio=pelicula[1]\n",
        "      name=pelicula[0]\n",
        "  print(f'La pelicula con mayor puntaje de {director} es de la pelicula: {name} en el año {anio} con un puntaje de {mayor_rating} ')"
      ],
      "execution_count": 0,
      "outputs": []
    },
    {
      "cell_type": "code",
      "metadata": {
        "id": "iIEoijDo3ApM",
        "colab_type": "code",
        "colab": {}
      },
      "source": [
        "#2\n",
        "for director, peliculas in directores.items():\n",
        "  mayor_rating=0\n",
        "  promedio=0\n",
        "  total=0\n",
        "  ratings=0\n",
        "  promedio=len(peliculas)\n",
        "  for pelicula in peliculas:\n",
        "      total=total+pelicula[2]\n",
        "      ratings=total/promedio\n",
        " # print(f'El ratin promedio de {director} es de {ratings} ')\n",
        "  print(\"El ratin promedio de \"+director+\" es de %.2f\"%ratings)"
      ],
      "execution_count": 0,
      "outputs": []
    },
    {
      "cell_type": "code",
      "metadata": {
        "id": "ao6I3QQp7-Go",
        "colab_type": "code",
        "outputId": "d03561a1-73cf-4bdf-bd25-60412528366a",
        "colab": {
          "base_uri": "https://localhost:8080/",
          "height": 34
        }
      },
      "source": [
        "#3\n",
        "ratings=0\n",
        "mayor_rating=0\n",
        "for director, peliculas in directores.items():\n",
        "  promedio=0\n",
        "  total=0\n",
        "  promedio=len(peliculas)\n",
        "  for pelicula in peliculas:\n",
        "      total=total+pelicula[2]\n",
        "      ratings=total/promedio\n",
        "      if(ratings>mayor_rating):\n",
        "        mayor_rating=ratings\n",
        "        a=director\n",
        " # print(f'El ratin promedio de {director} es de {ratings} ')\n",
        "print(\"El ratin promedio de \"+a+\" es de %.2f\"%mayor_rating)"
      ],
      "execution_count": 0,
      "outputs": [
        {
          "output_type": "stream",
          "text": [
            "El ratin promedio de Mitchell Altieri es de 8.70\n"
          ],
          "name": "stdout"
        }
      ]
    },
    {
      "cell_type": "code",
      "metadata": {
        "id": "k1oqx99RlIOb",
        "colab_type": "code",
        "colab": {}
      },
      "source": [
        "#4\n",
        "for director, peliculas in directores.items():\n",
        "  mayor_rating=0\n",
        "  anio=0\n",
        "  name=\"\"\n",
        "  for pelicula in peliculas:\n",
        "    if(mayor_rating<pelicula[2]):\n",
        "      mayor_rating=pelicula[2]\n",
        "      anio=pelicula[1]\n",
        "      name=pelicula[0]\n",
        "      if(anio==2016):\n",
        "        print(f'La pelicula del {director} es de la pelicula: {name} en el año {anio} con un puntaje de {mayor_rating} ')"
      ],
      "execution_count": 0,
      "outputs": []
    },
    {
      "cell_type": "code",
      "metadata": {
        "id": "RqBM4yK7beHZ",
        "colab_type": "code",
        "colab": {}
      },
      "source": [
        "#5\n",
        "for director, peliculas in directores.items():\n",
        "  anio=0\n",
        "  for pelicula in peliculas:\n",
        "      anio=pelicula[1]\n",
        "      if(anio==2016):\n",
        "        if(pelicula[2]>=mayor_rating):\n",
        "          mayor_rating=pelicula[2]\n",
        "          añio=pelicula[1]\n",
        "          name=pelicula[0]\n",
        "print(f'La pelicula del {director} es de la pelicula: {name} en el año {añio} con un puntaje de {mayor_rating} ')"
      ],
      "execution_count": 0,
      "outputs": []
    },
    {
      "cell_type": "code",
      "metadata": {
        "id": "5Lkf4OCFpjHQ",
        "colab_type": "code",
        "outputId": "db1e7b07-ac90-4386-be33-1415e0f9def8",
        "colab": {
          "base_uri": "https://localhost:8080/",
          "height": 34
        }
      },
      "source": [
        "#6\n",
        "promedio=0\n",
        "mayor_rating=0\n",
        "ratings=0\n",
        "for director, peliculas in directores.items():\n",
        "  total=0\n",
        "  promedio=len(peliculas)\n",
        "  for pelicula in peliculas:\n",
        "      if(pelicula[1]==2016):\n",
        "        total=total+pelicula[2]\n",
        "        ratings=total/promedio\n",
        "        if(ratings>mayor_rating):\n",
        "          mayor_director=director\n",
        "          mayor_rating=ratings\n",
        "print(\"El ratin promedio de \"+str(mayor_director)+\" es de \"+str(mayor_rating))"
      ],
      "execution_count": 0,
      "outputs": [
        {
          "output_type": "stream",
          "text": [
            "El ratin promedio de Mitchell Altieri es de 8.7\n"
          ],
          "name": "stdout"
        }
      ]
    },
    {
      "cell_type": "code",
      "metadata": {
        "id": "aRV7mBnLrSMC",
        "colab_type": "code",
        "colab": {}
      },
      "source": [
        "#7\n",
        "for director, peliculas in directores.items():\n",
        "  mayor_rating=0\n",
        "  anio=0\n",
        "  name=\"\"\n",
        "  for pelicula in peliculas:\n",
        "    if(mayor_rating<pelicula[2]):\n",
        "      mayor_rating=pelicula[2]\n",
        "      anio=pelicula[1]\n",
        "      name=pelicula[0]\n",
        "      if(anio==2016):\n",
        "        print(f'La pelicula del {director} es de la pelicula: {name} en el año {anio} con un puntaje de {mayor_rating} ')"
      ],
      "execution_count": 0,
      "outputs": []
    }
  ]
}