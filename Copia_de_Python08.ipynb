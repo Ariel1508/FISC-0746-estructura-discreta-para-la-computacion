{
  "nbformat": 4,
  "nbformat_minor": 0,
  "metadata": {
    "colab": {
      "name": "Copia_de_Python08.ipynb",
      "version": "0.3.2",
      "provenance": []
    },
    "kernelspec": {
      "name": "python3",
      "display_name": "Python 3"
    }
  },
  "cells": [
    {
      "cell_type": "markdown",
      "metadata": {
        "id": "pnknQhUtp2GD",
        "colab_type": "text"
      },
      "source": [
        "##Tarea 01:\n",
        "1- cual es el estudiante con mas porcentaje\n",
        "\n",
        "2- lista de estudiantes que superan la media"
      ]
    },
    {
      "cell_type": "code",
      "metadata": {
        "id": "79zuBvW7pYAB",
        "colab_type": "code",
        "colab": {
          "base_uri": "https://localhost:8080/",
          "height": 34
        },
        "outputId": "77a10718-07f4-40f7-d483-d9f1f7fc5eb6"
      },
      "source": [
        "##1\n",
        "temp1=0\n",
        "for nombre, notas in lobro_de_notas.items():\n",
        "  total=sum(notas)\n",
        "  totales=total / len(notas)\n",
        "  if(totales > temp1):\n",
        "    a=(nombre)\n",
        "    b=totales\n",
        "    temp1=totales\n",
        "print(f'El promedio mayor la clase es de {a} con {totales:.2f}')"
      ],
      "execution_count": 68,
      "outputs": [
        {
          "output_type": "stream",
          "text": [
            "El promedio mayor la clase es de Pedro con 93.33\n"
          ],
          "name": "stdout"
        }
      ]
    },
    {
      "cell_type": "code",
      "metadata": {
        "id": "4aZs-TLKq9DV",
        "colab_type": "code",
        "colab": {
          "base_uri": "https://localhost:8080/",
          "height": 51
        },
        "outputId": "9b071d02-e9a3-470f-cc6b-c5a631a2c57b"
      },
      "source": [
        "lobro_de_notas={\n",
        "    'Ariel':[92, 85, 100],\n",
        "    'Eduardo':[83,95,79],\n",
        "    'Susana':[91,89,81],\n",
        "    'Pedro':[97, 91, 92]\n",
        "}\n",
        "\n",
        "i=0\n",
        "nota_total_clase=0\n",
        "contador_de_notas=0\n",
        "for nombre, notas in lobro_de_notas.items():\n",
        "  a=len(notas)\n",
        "  i=i+a\n",
        "for nombre, notas in lobro_de_notas.items():\n",
        "  total=sum(notas)\n",
        "  nota_total_clase=nota_total_clase+total\n",
        "  promedio=nota_total_clase/i\n",
        "for nombre, notas in lobro_de_notas.items():\n",
        "  total=sum(notas)\n",
        "  totales=total / len(notas)\n",
        "  if(totales > promedio):\n",
        "    a=(nombre)\n",
        "    b=totales\n",
        "    temp1=totales\n",
        "    print(f'{nombre} supera la media con {totales:.2f}')\n"
      ],
      "execution_count": 67,
      "outputs": [
        {
          "output_type": "stream",
          "text": [
            "Ariel supera la media con 92.33\n",
            "Pedro supera la media con 93.33\n"
          ],
          "name": "stdout"
        }
      ]
    },
    {
      "cell_type": "code",
      "metadata": {
        "id": "vbqeU9ZrxqPF",
        "colab_type": "code",
        "colab": {
          "base_uri": "https://localhost:8080/",
          "height": 34
        },
        "outputId": "e66da196-b107-4dcc-99da-167bdd0860bf"
      },
      "source": [
        "#Leer la cantidad de notas\n",
        "i=0\n",
        "for nombre, notas in lobro_de_notas.items():\n",
        "  a=len(notas)\n",
        "  i=i+a\n",
        "print(i)"
      ],
      "execution_count": 66,
      "outputs": [
        {
          "output_type": "stream",
          "text": [
            "12\n"
          ],
          "name": "stdout"
        }
      ]
    },
    {
      "cell_type": "code",
      "metadata": {
        "id": "BdL_VeuY2Gar",
        "colab_type": "code",
        "colab": {}
      },
      "source": [
        ""
      ],
      "execution_count": 0,
      "outputs": []
    }
  ]
}