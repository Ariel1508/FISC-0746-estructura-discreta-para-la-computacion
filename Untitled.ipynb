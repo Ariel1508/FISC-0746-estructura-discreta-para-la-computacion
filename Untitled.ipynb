{
  "nbformat": 4,
  "nbformat_minor": 0,
  "metadata": {
    "colab": {
      "name": "Untitled",
      "version": "0.3.2",
      "provenance": []
    },
    "kernelspec": {
      "name": "python3",
      "display_name": "Python 3"
    }
  },
  "cells": [
    {
      "metadata": {
        "id": "xYoahx59Ux3C",
        "colab_type": "text"
      },
      "cell_type": "markdown",
      "source": [
        "https://github.com/skielosky/FISC-0746-estructura-discretas-computacion-2019"
      ]
    },
    {
      "metadata": {
        "id": "BLZDfB6-TzH3",
        "colab_type": "code",
        "colab": {}
      },
      "cell_type": "code",
      "source": [
        "c = [3,5,6,35,35,3]"
      ],
      "execution_count": 0,
      "outputs": []
    },
    {
      "metadata": {
        "id": "Ah8MPm1PUE3x",
        "colab_type": "code",
        "outputId": "1b7d38ee-8e5c-456d-cbb7-529c0d3e2e3c",
        "colab": {
          "base_uri": "https://localhost:8080/",
          "height": 34
        }
      },
      "cell_type": "code",
      "source": [
        "c"
      ],
      "execution_count": 0,
      "outputs": [
        {
          "output_type": "execute_result",
          "data": {
            "text/plain": [
              "[3, 5, 6, 35, 35, 3]"
            ]
          },
          "metadata": {
            "tags": []
          },
          "execution_count": 2
        }
      ]
    },
    {
      "metadata": {
        "id": "Xfpa8_hQUIQ5",
        "colab_type": "code",
        "outputId": "402624ec-0270-4eeb-b990-06a0b39156d6",
        "colab": {
          "base_uri": "https://localhost:8080/",
          "height": 34
        }
      },
      "cell_type": "code",
      "source": [
        "list(c)"
      ],
      "execution_count": 0,
      "outputs": [
        {
          "output_type": "execute_result",
          "data": {
            "text/plain": [
              "[3, 5, 6, 35, 35, 3]"
            ]
          },
          "metadata": {
            "tags": []
          },
          "execution_count": 3
        }
      ]
    },
    {
      "metadata": {
        "id": "1JfCDnkbUM3J",
        "colab_type": "code",
        "outputId": "2839b3ae-3075-4260-aede-e1fec106480d",
        "colab": {
          "base_uri": "https://localhost:8080/",
          "height": 34
        }
      },
      "cell_type": "code",
      "source": [
        "sum(c)"
      ],
      "execution_count": 0,
      "outputs": [
        {
          "output_type": "execute_result",
          "data": {
            "text/plain": [
              "87"
            ]
          },
          "metadata": {
            "tags": []
          },
          "execution_count": 4
        }
      ]
    },
    {
      "metadata": {
        "id": "akL7jUT8UQb5",
        "colab_type": "code",
        "outputId": "0886e080-55ea-477b-c6d2-d18982435369",
        "colab": {
          "base_uri": "https://localhost:8080/",
          "height": 34
        }
      },
      "cell_type": "code",
      "source": [
        "type(c)"
      ],
      "execution_count": 0,
      "outputs": [
        {
          "output_type": "execute_result",
          "data": {
            "text/plain": [
              "list"
            ]
          },
          "metadata": {
            "tags": []
          },
          "execution_count": 5
        }
      ]
    },
    {
      "metadata": {
        "id": "5UlqdfbsUULI",
        "colab_type": "code",
        "colab": {}
      },
      "cell_type": "code",
      "source": [
        "pro = sum(c) / len(c)"
      ],
      "execution_count": 0,
      "outputs": []
    },
    {
      "metadata": {
        "id": "X8Fz6iT7VIhR",
        "colab_type": "code",
        "outputId": "b43900c9-6a08-42d0-a21c-a49f83cf504f",
        "colab": {
          "base_uri": "https://localhost:8080/",
          "height": 34
        }
      },
      "cell_type": "code",
      "source": [
        "pro"
      ],
      "execution_count": 0,
      "outputs": [
        {
          "output_type": "execute_result",
          "data": {
            "text/plain": [
              "14.5"
            ]
          },
          "metadata": {
            "tags": []
          },
          "execution_count": 12
        }
      ]
    },
    {
      "metadata": {
        "id": "F6W6A4EFZQoB",
        "colab_type": "code",
        "colab": {}
      },
      "cell_type": "code",
      "source": [
        "c[4] = 17"
      ],
      "execution_count": 0,
      "outputs": []
    },
    {
      "metadata": {
        "id": "D6tBtDC_ZjFx",
        "colab_type": "code",
        "colab": {
          "base_uri": "https://localhost:8080/",
          "height": 34
        },
        "outputId": "eb4686fc-2982-4482-8482-3a5b63d013da"
      },
      "cell_type": "code",
      "source": [
        "c"
      ],
      "execution_count": 33,
      "outputs": [
        {
          "output_type": "execute_result",
          "data": {
            "text/plain": [
              "[3, 5, 6, 35, 17, 3]"
            ]
          },
          "metadata": {
            "tags": []
          },
          "execution_count": 33
        }
      ]
    },
    {
      "metadata": {
        "id": "BPumbgmdaeQs",
        "colab_type": "code",
        "colab": {
          "base_uri": "https://localhost:8080/",
          "height": 34
        },
        "outputId": "a641c2ff-42c2-47f6-de61-f046d29171a3"
      },
      "cell_type": "code",
      "source": [
        "d = c[3] + c[5]\n",
        "d"
      ],
      "execution_count": 36,
      "outputs": [
        {
          "output_type": "execute_result",
          "data": {
            "text/plain": [
              "38"
            ]
          },
          "metadata": {
            "tags": []
          },
          "execution_count": 36
        }
      ]
    },
    {
      "metadata": {
        "id": "nLz7K0s0ayQ7",
        "colab_type": "code",
        "colab": {}
      },
      "cell_type": "code",
      "source": [
        "a_list = []\n",
        "for n in range(1, 6):\n",
        "  a_list += [n]"
      ],
      "execution_count": 0,
      "outputs": []
    },
    {
      "metadata": {
        "id": "UmaC1X6fbHyY",
        "colab_type": "code",
        "colab": {
          "base_uri": "https://localhost:8080/",
          "height": 34
        },
        "outputId": "94f35684-a77f-48ed-d95b-eca29b36eb29"
      },
      "cell_type": "code",
      "source": [
        "a_list"
      ],
      "execution_count": 38,
      "outputs": [
        {
          "output_type": "execute_result",
          "data": {
            "text/plain": [
              "[1, 2, 3, 4, 5]"
            ]
          },
          "metadata": {
            "tags": []
          },
          "execution_count": 38
        }
      ]
    },
    {
      "metadata": {
        "id": "I3sr7bAKbKWh",
        "colab_type": "code",
        "colab": {}
      },
      "cell_type": "code",
      "source": [
        ""
      ],
      "execution_count": 0,
      "outputs": []
    },
    {
      "metadata": {
        "id": "ONGbH68yVPUY",
        "colab_type": "text"
      },
      "cell_type": "markdown",
      "source": [
        "##Asignacion\n"
      ]
    },
    {
      "metadata": {
        "id": "cKoiCDHEVLFq",
        "colab_type": "code",
        "colab": {
          "base_uri": "https://localhost:8080/",
          "height": 119
        },
        "outputId": "3765b0f9-0d93-406c-bb03-9fc93621df9a"
      },
      "cell_type": "code",
      "source": [
        "suma=0\n",
        "for i in (c):\n",
        " suma +=i \n",
        "print(suma)\n",
        "\n"
      ],
      "execution_count": 27,
      "outputs": [
        {
          "output_type": "stream",
          "text": [
            "3\n",
            "8\n",
            "14\n",
            "49\n",
            "84\n",
            "87\n"
          ],
          "name": "stdout"
        }
      ]
    },
    {
      "metadata": {
        "id": "bBOYWHMFYN6J",
        "colab_type": "text"
      },
      "cell_type": "markdown",
      "source": [
        "##Asignacion 2\n"
      ]
    },
    {
      "metadata": {
        "id": "UwbWYLscYNoi",
        "colab_type": "code",
        "colab": {
          "base_uri": "https://localhost:8080/",
          "height": 34
        },
        "outputId": "cb40ce86-343c-4c91-f6a2-e9e342286a71"
      },
      "cell_type": "code",
      "source": [
        "promedi=0\n",
        "suma=0\n",
        "for i in (c):\n",
        " suma +=i \n",
        "len(c)\n",
        "promedio = suma / len(c)\n",
        "print(promedio)"
      ],
      "execution_count": 31,
      "outputs": [
        {
          "output_type": "stream",
          "text": [
            "14.5\n"
          ],
          "name": "stdout"
        }
      ]
    },
    {
      "metadata": {
        "id": "xspiR82OcCYi",
        "colab_type": "text"
      },
      "cell_type": "markdown",
      "source": [
        "##Asignacion final"
      ]
    },
    {
      "metadata": {
        "id": "U1yPDle9cHqQ",
        "colab_type": "code",
        "colab": {}
      },
      "cell_type": "code",
      "source": [
        "alturas = [10, 161, 182, 161, 154, 176, 170, 167,171,170, 174]\n",
        "promedi=0\n",
        "suma=0\n",
        "for i in (alturas):\n",
        " suma +=i \n",
        "len(altura)\n",
        "promedio = suma / len(altura)\n",
        "print(promedio)"
      ],
      "execution_count": 0,
      "outputs": []
    }
  ]
}