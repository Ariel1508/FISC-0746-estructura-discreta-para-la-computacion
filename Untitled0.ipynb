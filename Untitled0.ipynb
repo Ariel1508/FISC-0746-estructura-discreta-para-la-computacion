{
  "nbformat": 4,
  "nbformat_minor": 0,
  "metadata": {
    "colab": {
      "name": "Untitled0.ipynb",
      "version": "0.3.2",
      "provenance": []
    },
    "kernelspec": {
      "name": "python3",
      "display_name": "Python 3"
    }
  },
  "cells": [
    {
      "cell_type": "markdown",
      "metadata": {
        "id": "uRZqw3_WfGEa",
        "colab_type": "text"
      },
      "source": [
        "##Diccionarios\n"
      ]
    },
    {
      "cell_type": "code",
      "metadata": {
        "id": "vOxbIC7Ue_Qu",
        "colab_type": "code",
        "colab": {}
      },
      "source": [
        "codigo_paises= {'Filand':'fi','Souht Africa':'za','Nepal':'np','Panama':'pa'}"
      ],
      "execution_count": 0,
      "outputs": []
    },
    {
      "cell_type": "code",
      "metadata": {
        "id": "hohyx6yGgusK",
        "colab_type": "code",
        "colab": {
          "base_uri": "https://localhost:8080/",
          "height": 34
        },
        "outputId": "65bedc51-2e10-4c40-e7ef-d29d915bab51"
      },
      "source": [
        "codigo_paises"
      ],
      "execution_count": 3,
      "outputs": [
        {
          "output_type": "execute_result",
          "data": {
            "text/plain": [
              "{'Filand': 'fi', 'Nepal': 'np', 'Panama': 'pa', 'Souht Africa': 'za'}"
            ]
          },
          "metadata": {
            "tags": []
          },
          "execution_count": 3
        }
      ]
    },
    {
      "cell_type": "code",
      "metadata": {
        "id": "OkJqafngjAIw",
        "colab_type": "code",
        "colab": {
          "base_uri": "https://localhost:8080/",
          "height": 34
        },
        "outputId": "0cc3b57a-7cdd-41a4-b9a8-ee4c3e46f138"
      },
      "source": [
        "if codigo_paises:\n",
        "  print('El diccionario tiene elementos')\n",
        "else:\n",
        "  print('El diccionario esta vacio')"
      ],
      "execution_count": 4,
      "outputs": [
        {
          "output_type": "stream",
          "text": [
            "El diccionario tiene elementos\n"
          ],
          "name": "stdout"
        }
      ]
    },
    {
      "cell_type": "code",
      "metadata": {
        "id": "Dg2idWCFjQZ3",
        "colab_type": "code",
        "colab": {
          "base_uri": "https://localhost:8080/",
          "height": 34
        },
        "outputId": "4d8c12ea-5e99-4daa-cc01-6141cc91e151"
      },
      "source": [
        "#eliminar elementos del diccionario\n",
        "codigo_paises.clear()\n",
        "if codigo_paises:\n",
        "  print('El diccionario tiene elementos')\n",
        "else:\n",
        "  print('El diccionario esta vacio')"
      ],
      "execution_count": 5,
      "outputs": [
        {
          "output_type": "stream",
          "text": [
            "El diccionario esta vacio\n"
          ],
          "name": "stdout"
        }
      ]
    },
    {
      "cell_type": "code",
      "metadata": {
        "id": "6JgqwQYHjkjW",
        "colab_type": "code",
        "colab": {
          "base_uri": "https://localhost:8080/",
          "height": 34
        },
        "outputId": "e65db2fd-f941-4999-9466-9e3b9b871ad6"
      },
      "source": [
        "dias_por_mes={'Enero':31,'febrero':28,'Marzo':31}\n",
        "dias_por_mes"
      ],
      "execution_count": 10,
      "outputs": [
        {
          "output_type": "execute_result",
          "data": {
            "text/plain": [
              "{'Enero': 31, 'Marzo': 31, 'febrero': 28}"
            ]
          },
          "metadata": {
            "tags": []
          },
          "execution_count": 10
        }
      ]
    },
    {
      "cell_type": "code",
      "metadata": {
        "id": "GqG8m1haj0VI",
        "colab_type": "code",
        "colab": {
          "base_uri": "https://localhost:8080/",
          "height": 70
        },
        "outputId": "672862d7-73d3-41cd-c96a-8680a8e9ad9e"
      },
      "source": [
        "for mes, dia in dias_por_mes.items():\n",
        "  print(f'{mes} tiene {dia} dias')"
      ],
      "execution_count": 12,
      "outputs": [
        {
          "output_type": "stream",
          "text": [
            "Enero tiene 31 dias\n",
            "febrero tiene 28 dias\n",
            "Marzo tiene 31 dias\n"
          ],
          "name": "stdout"
        }
      ]
    },
    {
      "cell_type": "markdown",
      "metadata": {
        "id": "yNKGuxp6fPdi",
        "colab_type": "text"
      },
      "source": [
        "##Tarea 1:\n",
        "Imprimir panama tiene el codigo pa"
      ]
    },
    {
      "cell_type": "code",
      "metadata": {
        "id": "k4bpAIsKks--",
        "colab_type": "code",
        "colab": {
          "base_uri": "https://localhost:8080/",
          "height": 34
        },
        "outputId": "693a2627-cfc1-47b0-b2e3-f7b5e42c3d77"
      },
      "source": [
        "\n",
        "codigo_paises= {'Panama':'pa'}\n",
        "for pais, codigo in codigo_paises.items():\n",
        "  print(f'{pais} tiene el codigo: {codigo} ')"
      ],
      "execution_count": 17,
      "outputs": [
        {
          "output_type": "stream",
          "text": [
            "Panama tiene el codigo: pa \n"
          ],
          "name": "stdout"
        }
      ]
    },
    {
      "cell_type": "code",
      "metadata": {
        "id": "FR2i1SD2lM1X",
        "colab_type": "code",
        "colab": {
          "base_uri": "https://localhost:8080/",
          "height": 34
        },
        "outputId": "6d4330e7-245d-45e6-da57-f144c9bf6914"
      },
      "source": [
        "numeros_romanos={'I':'1','II':'2','III':'3','IV':'4','V':'5','X':'100'}\n",
        "numeros_romanos"
      ],
      "execution_count": 48,
      "outputs": [
        {
          "output_type": "execute_result",
          "data": {
            "text/plain": [
              "{'I': '1', 'II': '2', 'III': '3', 'IV': '4', 'V': '5', 'X': '100'}"
            ]
          },
          "metadata": {
            "tags": []
          },
          "execution_count": 48
        }
      ]
    },
    {
      "cell_type": "code",
      "metadata": {
        "id": "_5Y2-2d_lpE-",
        "colab_type": "code",
        "colab": {
          "base_uri": "https://localhost:8080/",
          "height": 34
        },
        "outputId": "fd86ba88-6b35-46cc-f5c9-7486248e1cef"
      },
      "source": [
        "numeros_romanos['V']"
      ],
      "execution_count": 36,
      "outputs": [
        {
          "output_type": "execute_result",
          "data": {
            "text/plain": [
              "'5'"
            ]
          },
          "metadata": {
            "tags": []
          },
          "execution_count": 36
        }
      ]
    },
    {
      "cell_type": "code",
      "metadata": {
        "id": "x-Fses7Ulo99",
        "colab_type": "code",
        "colab": {
          "base_uri": "https://localhost:8080/",
          "height": 34
        },
        "outputId": "c8b9f815-9d73-42b3-c7ec-c932e19a84e1"
      },
      "source": [
        "numeros_romanos['X']=10\n",
        "numeros_romanos"
      ],
      "execution_count": 43,
      "outputs": [
        {
          "output_type": "execute_result",
          "data": {
            "text/plain": [
              "{'I': '1', 'II': '2', 'III': '3', 'IV': '4', 'L': 50, 'V': '5', 'X': 10}"
            ]
          },
          "metadata": {
            "tags": []
          },
          "execution_count": 43
        }
      ]
    },
    {
      "cell_type": "code",
      "metadata": {
        "id": "LsffxTMImVRv",
        "colab_type": "code",
        "colab": {
          "base_uri": "https://localhost:8080/",
          "height": 34
        },
        "outputId": "093526a3-efea-4067-9cdc-26cb777a88ca"
      },
      "source": [
        "#agregar un nuevo valor/llave\n",
        "numeros_romanos['L']=50\n",
        "numeros_romanos"
      ],
      "execution_count": 40,
      "outputs": [
        {
          "output_type": "execute_result",
          "data": {
            "text/plain": [
              "{'I': '1', 'II': '2', 'III': '3', 'IV': '4', 'L': 50, 'V': '5'}"
            ]
          },
          "metadata": {
            "tags": []
          },
          "execution_count": 40
        }
      ]
    },
    {
      "cell_type": "code",
      "metadata": {
        "id": "_zKJHdYhmzuv",
        "colab_type": "code",
        "colab": {
          "base_uri": "https://localhost:8080/",
          "height": 34
        },
        "outputId": "b4bb8a0f-64fa-4142-f92b-786ee5fde4a7"
      },
      "source": [
        "#eliminar un valor/llave\n",
        "numeros_romanos.pop('X')\n",
        "numeros_romanos"
      ],
      "execution_count": 51,
      "outputs": [
        {
          "output_type": "execute_result",
          "data": {
            "text/plain": [
              "{'I': '1', 'II': '2', 'III': '3', 'IV': '4', 'V': '5'}"
            ]
          },
          "metadata": {
            "tags": []
          },
          "execution_count": 51
        }
      ]
    },
    {
      "cell_type": "code",
      "metadata": {
        "id": "rlKjrNdFnUUu",
        "colab_type": "code",
        "colab": {
          "base_uri": "https://localhost:8080/",
          "height": 34
        },
        "outputId": "e90829cb-ae8b-4878-d1f5-de30172a3c3c"
      },
      "source": [
        "#Remover un par llave/valor\n",
        "del numeros_romanos['III']\n",
        "numeros_romanos"
      ],
      "execution_count": 53,
      "outputs": [
        {
          "output_type": "execute_result",
          "data": {
            "text/plain": [
              "{'I': '1', 'II': '2', 'IV': '4', 'V': '5'}"
            ]
          },
          "metadata": {
            "tags": []
          },
          "execution_count": 53
        }
      ]
    },
    {
      "cell_type": "code",
      "metadata": {
        "id": "6PSj79ian4gn",
        "colab_type": "code",
        "colab": {}
      },
      "source": [
        "#si no esta no pasanada\n",
        "numeros_romanos.get('III')"
      ],
      "execution_count": 0,
      "outputs": []
    },
    {
      "cell_type": "code",
      "metadata": {
        "id": "f5XKA9vwowtR",
        "colab_type": "code",
        "colab": {
          "base_uri": "https://localhost:8080/",
          "height": 34
        },
        "outputId": "b3005b48-505d-470e-9500-3dd4058fa59c"
      },
      "source": [
        "numeros_romanos.get('III','III no esta en el diccionario')"
      ],
      "execution_count": 61,
      "outputs": [
        {
          "output_type": "execute_result",
          "data": {
            "text/plain": [
              "'III no esta en el diccionario'"
            ]
          },
          "metadata": {
            "tags": []
          },
          "execution_count": 61
        }
      ]
    },
    {
      "cell_type": "code",
      "metadata": {
        "id": "2_NpvjX9p06n",
        "colab_type": "code",
        "colab": {
          "base_uri": "https://localhost:8080/",
          "height": 34
        },
        "outputId": "9b16a3c7-bb4e-4395-c205-daf7abc2bd88"
      },
      "source": [
        "#probar cuando una llave especifica existen dentro del diccionario\n",
        "'III' in numeros_romanos"
      ],
      "execution_count": 63,
      "outputs": [
        {
          "output_type": "execute_result",
          "data": {
            "text/plain": [
              "False"
            ]
          },
          "metadata": {
            "tags": []
          },
          "execution_count": 63
        }
      ]
    },
    {
      "cell_type": "code",
      "metadata": {
        "id": "NssDhFpMqFZo",
        "colab_type": "code",
        "colab": {
          "base_uri": "https://localhost:8080/",
          "height": 34
        },
        "outputId": "9a19f0fd-9bf7-492b-dc52-38e982448dd8"
      },
      "source": [
        "'III' not in numeros_romanos"
      ],
      "execution_count": 64,
      "outputs": [
        {
          "output_type": "execute_result",
          "data": {
            "text/plain": [
              "True"
            ]
          },
          "metadata": {
            "tags": []
          },
          "execution_count": 64
        }
      ]
    },
    {
      "cell_type": "code",
      "metadata": {
        "id": "rSXBQL8_qJUn",
        "colab_type": "code",
        "colab": {
          "base_uri": "https://localhost:8080/",
          "height": 34
        },
        "outputId": "e142b0f7-78c5-4c19-ff53-6ba93db8a8c4"
      },
      "source": [
        "'V' in numeros_romanos"
      ],
      "execution_count": 65,
      "outputs": [
        {
          "output_type": "execute_result",
          "data": {
            "text/plain": [
              "True"
            ]
          },
          "metadata": {
            "tags": []
          },
          "execution_count": 65
        }
      ]
    },
    {
      "cell_type": "markdown",
      "metadata": {
        "id": "HnzAfkUMqmyK",
        "colab_type": "text"
      },
      "source": [
        "##Tarea 2:\n",
        "crear un diccionario \"numeros binarios\" con 5 llaves \"1\",\"2\",\"4\",\"5\",\"10\"\n",
        "\n",
        "*insertar una llave 3 con su valor\n",
        "\n",
        "*remover 5 y obtener su valor\n",
        "\n",
        "* verificar si la llave 9 existe"
      ]
    },
    {
      "cell_type": "code",
      "metadata": {
        "id": "NjxWHqNPrDZH",
        "colab_type": "code",
        "colab": {
          "base_uri": "https://localhost:8080/",
          "height": 34
        },
        "outputId": "2647cfcf-2093-46cb-9831-d79b63764e9f"
      },
      "source": [
        " numeros_binarios={'1':1,'10':2,'100':4,'101':5,'1010':10}\n",
        " numeros_binarios"
      ],
      "execution_count": 71,
      "outputs": [
        {
          "output_type": "execute_result",
          "data": {
            "text/plain": [
              "{'1': 1, '10': 2, '100': 4, '101': 5, '1010': 10}"
            ]
          },
          "metadata": {
            "tags": []
          },
          "execution_count": 71
        }
      ]
    },
    {
      "cell_type": "code",
      "metadata": {
        "id": "HP7nLOS0rs-x",
        "colab_type": "code",
        "colab": {
          "base_uri": "https://localhost:8080/",
          "height": 34
        },
        "outputId": "b9f81d53-ab05-4054-9d10-9754a958e19d"
      },
      "source": [
        "numeros_binarios['11']=3\n",
        "numeros_binarios"
      ],
      "execution_count": 72,
      "outputs": [
        {
          "output_type": "execute_result",
          "data": {
            "text/plain": [
              "{'1': 1, '10': 2, '100': 4, '101': 5, '1010': 10, '11': 3}"
            ]
          },
          "metadata": {
            "tags": []
          },
          "execution_count": 72
        }
      ]
    },
    {
      "cell_type": "code",
      "metadata": {
        "id": "lNeiS36SsQQY",
        "colab_type": "code",
        "colab": {
          "base_uri": "https://localhost:8080/",
          "height": 34
        },
        "outputId": "ff83b4f4-179a-4c37-8672-b6e7ee652f76"
      },
      "source": [
        "#1001 es 9 en numeros binario\n",
        "'1001' in numeros_binarios"
      ],
      "execution_count": 74,
      "outputs": [
        {
          "output_type": "execute_result",
          "data": {
            "text/plain": [
              "False"
            ]
          },
          "metadata": {
            "tags": []
          },
          "execution_count": 74
        }
      ]
    },
    {
      "cell_type": "code",
      "metadata": {
        "id": "SOwtqU9Lsatj",
        "colab_type": "code",
        "colab": {
          "base_uri": "https://localhost:8080/",
          "height": 34
        },
        "outputId": "b17d5002-92e2-41a7-8388-5e1dfb7a219c"
      },
      "source": [
        "numeros_binarios"
      ],
      "execution_count": 70,
      "outputs": [
        {
          "output_type": "execute_result",
          "data": {
            "text/plain": [
              "{'1': 1, '10': 2, '100': 4, '101': 5, '11': 3}"
            ]
          },
          "metadata": {
            "tags": []
          },
          "execution_count": 70
        }
      ]
    },
    {
      "cell_type": "code",
      "metadata": {
        "id": "UQxDMaFks4nY",
        "colab_type": "code",
        "colab": {
          "base_uri": "https://localhost:8080/",
          "height": 34
        },
        "outputId": "30f89c47-3666-4b80-f206-c31bf1f2c8f1"
      },
      "source": [
        "numeros_binarios['1001']=9\n",
        "numeros_binarios"
      ],
      "execution_count": 75,
      "outputs": [
        {
          "output_type": "execute_result",
          "data": {
            "text/plain": [
              "{'1': 1, '10': 2, '100': 4, '1001': 9, '101': 5, '1010': 10, '11': 3}"
            ]
          },
          "metadata": {
            "tags": []
          },
          "execution_count": 75
        }
      ]
    },
    {
      "cell_type": "code",
      "metadata": {
        "id": "HUaMMZpWs4fW",
        "colab_type": "code",
        "colab": {
          "base_uri": "https://localhost:8080/",
          "height": 34
        },
        "outputId": "d548d1a3-c236-438f-ca31-ec8f763388f4"
      },
      "source": [
        "'1001' in numeros_binarios"
      ],
      "execution_count": 76,
      "outputs": [
        {
          "output_type": "execute_result",
          "data": {
            "text/plain": [
              "True"
            ]
          },
          "metadata": {
            "tags": []
          },
          "execution_count": 76
        }
      ]
    },
    {
      "cell_type": "markdown",
      "metadata": {
        "id": "jUCSU_TzuFxy",
        "colab_type": "text"
      },
      "source": [
        "##Tarea 3\n",
        "\n"
      ]
    },
    {
      "cell_type": "code",
      "metadata": {
        "id": "MkgZMZ0utkUI",
        "colab_type": "code",
        "colab": {
          "base_uri": "https://localhost:8080/",
          "height": 87
        },
        "outputId": "effc66a3-b8eb-4203-c2b0-aaa625ab381a"
      },
      "source": [
        "lobro_de_notas={\n",
        "    'Ariel':[92, 85, 100],\n",
        "    'Eduardo':[83,95,79],\n",
        "    'Susana':[91,89,81],\n",
        "    'Pedro':[97, 91, 92]\n",
        "}\n",
        "\n",
        "totales_de_las_notas=0\n",
        "contador_de_notas=0\n",
        "for nombre, notas in lobro_de_notas.items():\n",
        "  total=sum(notas)\n",
        "  print(f'El promedio de  {nombre} es {total / len(notas):.2f}')\n",
        "  \n",
        "  "
      ],
      "execution_count": 114,
      "outputs": [
        {
          "output_type": "stream",
          "text": [
            "El promedio de  Ariel es 92.33\n",
            "El promedio de  Eduardo es 85.67\n",
            "El promedio de  Susana es 87.00\n",
            "El promedio de  Pedro es 93.33\n"
          ],
          "name": "stdout"
        }
      ]
    },
    {
      "cell_type": "code",
      "metadata": {
        "id": "-Q2X-BSivkFA",
        "colab_type": "code",
        "colab": {
          "base_uri": "https://localhost:8080/",
          "height": 34
        },
        "outputId": "0aa81001-e18e-4d85-a718-681b14aa54d6"
      },
      "source": [
        "a=lobro_de_notas['Ariel'][1]+lobro_de_notas['Ariel'][2]+lobro_de_notas['Ariel'][0]\n",
        "a"
      ],
      "execution_count": 102,
      "outputs": [
        {
          "output_type": "execute_result",
          "data": {
            "text/plain": [
              "277"
            ]
          },
          "metadata": {
            "tags": []
          },
          "execution_count": 102
        }
      ]
    },
    {
      "cell_type": "code",
      "metadata": {
        "id": "ZYPVApXC06JS",
        "colab_type": "code",
        "colab": {}
      },
      "source": [
        "nota1=total / len(notas):.2f\n",
        "  print(f'El promedio de la clase es {totales_de_las_notas}')"
      ],
      "execution_count": 0,
      "outputs": []
    }
  ]
}