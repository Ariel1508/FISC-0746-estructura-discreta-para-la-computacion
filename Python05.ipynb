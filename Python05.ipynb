{
  "nbformat": 4,
  "nbformat_minor": 0,
  "metadata": {
    "colab": {
      "name": "Python05.ipynb",
      "version": "0.3.2",
      "provenance": []
    },
    "kernelspec": {
      "name": "python3",
      "display_name": "Python 3"
    }
  },
  "cells": [
    {
      "cell_type": "markdown",
      "metadata": {
        "id": "cL1EpIo3b2Xk",
        "colab_type": "text"
      },
      "source": [
        "##Tarea 1: escribir en python una funcion que tenga 2 parametros numericos y los multiplique."
      ]
    },
    {
      "cell_type": "code",
      "metadata": {
        "id": "8M3cN0XraVkD",
        "colab_type": "code",
        "colab": {}
      },
      "source": [
        "def multfuncion(num1,num2):\n",
        "  print (num1 * num2)\n",
        "  #return a * b\n",
        "multfuncion(6,9)  "
      ],
      "execution_count": 0,
      "outputs": []
    },
    {
      "cell_type": "code",
      "metadata": {
        "id": "5pv_It6Jf0kl",
        "colab_type": "code",
        "outputId": "403a40cc-3d6b-48af-d94f-917b9e4ff03e",
        "colab": {
          "base_uri": "https://localhost:8080/",
          "height": 34
        }
      },
      "source": [
        "def multi(a,b):\n",
        "  return a * b\n",
        "a = 3\n",
        "b = 7\n",
        "print(\"la multiplicacion de \"+ str(a)+ \" y \" + str(b) + \" es \"+str(multi(a, b)))  "
      ],
      "execution_count": 0,
      "outputs": [
        {
          "output_type": "stream",
          "text": [
            "la multiplicacion de 3 y 7 es 21\n"
          ],
          "name": "stdout"
        }
      ]
    },
    {
      "cell_type": "markdown",
      "metadata": {
        "id": "YsOU-h4lcaft",
        "colab_type": "text"
      },
      "source": [
        "##Tarea 2: escribir una cuncion que regrese el 7% de una compra\n",
        "\n",
        "Cual es el total de la compra"
      ]
    },
    {
      "cell_type": "code",
      "metadata": {
        "id": "6c3nJUZScbJt",
        "colab_type": "code",
        "outputId": "1b02df55-bb52-40e1-a4ba-2065fffff825",
        "colab": {
          "base_uri": "https://localhost:8080/",
          "height": 34
        }
      },
      "source": [
        "def impuesto(compra):\n",
        "  return compra * 0.07\n",
        "   \n",
        "compra = 345\n",
        "impuest=impuesto(compra)\n",
        "total = compra + impuesto(compra)\n",
        "print(\"Su compra es de: %.1f,con un itbms de: %.2f  y el total de la compra es:  %.2f\" %(compra,impuest,total))\n"
      ],
      "execution_count": 38,
      "outputs": [
        {
          "output_type": "stream",
          "text": [
            "Su compra es de: 345.0,con un itbms de: 24.15  y el total de la compra es:  369.15\n"
          ],
          "name": "stdout"
        }
      ]
    },
    {
      "cell_type": "markdown",
      "metadata": {
        "id": "Zg0QdV4Lno4L",
        "colab_type": "text"
      },
      "source": [
        "##Tarea 3: preguntar si la persona es jubilada aplicar el descuento del 30% imprimier total"
      ]
    },
    {
      "cell_type": "code",
      "metadata": {
        "id": "ESjmWQZynq_C",
        "colab_type": "code",
        "colab": {
          "base_uri": "https://localhost:8080/",
          "height": 34
        },
        "outputId": "6ecc1a03-3d04-4ed9-8182-cabb7223de2c"
      },
      "source": [
        "def impuesto(compra):\n",
        "  return compra * 0.07\n",
        "\n",
        "def descuento(compra):\n",
        "  return compra * 0.30\n",
        "\n",
        "\n",
        "\n",
        "es_jubilado = 64\n",
        "compra = 20\n",
        "\n",
        "if es_jubilado >= 65:\n",
        "  total = compra + impuesto(compra)\n",
        "  descuent = total - descuento(compra)\n",
        "  print(\"Su compra es de: %.1f y posee el descuento de jubilado del 30 porciento de descuento  y el total de la compra es:  %.2f\" %(compra,descuent))\n",
        "\n",
        "else:\n",
        "  total = compra + impuesto(compra)\n",
        "  print(\"Su compra es de: %.1f  y el total de la compra es:  %.2f mas el 7 porciento\n",
        "        \" %(compra,total))\n"
      ],
      "execution_count": 58,
      "outputs": [
        {
          "output_type": "stream",
          "text": [
            "Su compra es de: 20.0  y el total de la compra es:  21.40\n"
          ],
          "name": "stdout"
        }
      ]
    }
  ]
}